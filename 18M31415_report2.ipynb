{
  "nbformat": 4,
  "nbformat_minor": 0,
  "metadata": {
    "colab": {
      "name": "18M31415_report2.ipynb",
      "version": "0.3.2",
      "provenance": [],
      "collapsed_sections": [],
      "include_colab_link": true
    },
    "kernelspec": {
      "display_name": "Python 3",
      "language": "python",
      "name": "python3"
    }
  },
  "cells": [
    {
      "cell_type": "markdown",
      "metadata": {
        "id": "view-in-github",
        "colab_type": "text"
      },
      "source": [
        "[View in Colaboratory](https://colab.research.google.com/github/takesi0627/deeplearningclass/blob/master/18M31415_report2.ipynb)"
      ]
    },
    {
      "metadata": {
        "id": "qWTJl9f4g0FP",
        "colab_type": "text"
      },
      "cell_type": "markdown",
      "source": [
        "# Machine Learning: Intermediate report\n",
        "\n",
        "+ JUAN Nien-Wu (18M31415)"
      ]
    },
    {
      "metadata": {
        "id": "8C8eGNK6g0FQ",
        "colab_type": "text"
      },
      "cell_type": "markdown",
      "source": [
        "Prepare an environment for running Python codes on Jupyter notebook. The most easiest way is to use [Google Colaboratory](https://colab.research.google.com/).\n",
        "\n",
        "Write codes for the following three (and one optional) problems, and submit the notebook (`.ipynb`) as well as its HTML conversion (`.html`). *We do not accept a report in other formats (e.g., Word, PDF)*. Write a code at the specified cell in the notebook. One can add more cells if necessary.\n",
        "\n",
        "These are the links to the sample codes used in the lecture:\n",
        "\n",
        "+ [Binary classification](https://github.com/chokkan/deeplearningclass/blob/master/mlp_binary.ipynb)\n",
        "+ [MNIST](https://github.com/chokkan/deeplearningclass/blob/master/mnist.ipynb)"
      ]
    },
    {
      "metadata": {
        "id": "ZOsmYwcqg0FQ",
        "colab_type": "text"
      },
      "cell_type": "markdown",
      "source": [
        "## 1. Multi-class classification on MNIST\n",
        "\n",
        "Train a model on the training set of MNIST, and report the accuracy of the model on the test set. One can use the same code shown in the lecture. Write a code here and show the output."
      ]
    },
    {
      "metadata": {
        "id": "cyoTljVJg0FR",
        "colab_type": "code",
        "colab": {}
      },
      "cell_type": "code",
      "source": [
        "import gzip\n",
        "import os\n",
        "import sys\n",
        "import struct\n",
        "import numpy as np\n",
        "\n",
        "def read_image(fi):\n",
        "    magic, n, rows, columns = struct.unpack(\">IIII\", fi.read(16))\n",
        "    assert magic == 0x00000803\n",
        "    assert rows == 28\n",
        "    assert columns == 28\n",
        "    rawbuffer = fi.read()\n",
        "    assert len(rawbuffer) == n * rows * columns\n",
        "    rawdata = np.frombuffer(rawbuffer, dtype='>u1', count=n*rows*columns)\n",
        "    return rawdata.reshape(n, rows, columns).astype(np.float32) / 255.0\n",
        "\n",
        "def read_label(fi):\n",
        "    magic, n = struct.unpack(\">II\", fi.read(8))\n",
        "    assert magic == 0x00000801\n",
        "    rawbuffer = fi.read()\n",
        "    assert len(rawbuffer) == n\n",
        "    return np.frombuffer(rawbuffer, dtype='>u1', count=n)\n",
        "\n",
        " \n",
        "def image_to_vector(X):\n",
        "    X = np.reshape(X, (len(X), -1))     # Flatten: (N x 28 x 28) -> (N x 784)\n",
        "    return np.c_[X, np.ones(len(X))]    # Append 1: (N x 784) -> (N x 785)\n",
        "\n",
        "  \n",
        "if __name__ == '__main__':\n",
        "    os.system('wget -N http://yann.lecun.com/exdb/mnist/train-images-idx3-ubyte.gz')\n",
        "    os.system('wget -N http://yann.lecun.com/exdb/mnist/train-labels-idx1-ubyte.gz')\n",
        "    os.system('wget -N http://yann.lecun.com/exdb/mnist/t10k-images-idx3-ubyte.gz')\n",
        "    os.system('wget -N http://yann.lecun.com/exdb/mnist/t10k-labels-idx1-ubyte.gz')\n",
        "    \n",
        "    np.savez_compressed(\n",
        "        'mnist',\n",
        "        train_x=read_image(gzip.open('train-images-idx3-ubyte.gz', 'rb')),\n",
        "        train_y=read_label(gzip.open('train-labels-idx1-ubyte.gz', 'rb')),\n",
        "        test_x=read_image(gzip.open('t10k-images-idx3-ubyte.gz', 'rb')),\n",
        "        test_y=read_label(gzip.open('t10k-labels-idx1-ubyte.gz', 'rb'))\n",
        "    )\n",
        "\n",
        "\n"
      ],
      "execution_count": 0,
      "outputs": []
    },
    {
      "metadata": {
        "id": "ujb2KaZGTQhE",
        "colab_type": "code",
        "colab": {
          "base_uri": "https://localhost:8080/",
          "height": 34
        },
        "outputId": "3a8e5466-c607-42a7-d1fa-42418b314ed9"
      },
      "cell_type": "code",
      "source": [
        "data = np.load('mnist.npz')\n",
        "Xtrain = image_to_vector(data['train_x'])\n",
        "Ytrain = data['train_y']\n",
        "Xtest = image_to_vector(data['test_x'])\n",
        "Ytest = data['test_y']\n",
        "\n",
        "W = np.random.randn(10, 28*28+1)\n",
        "\n",
        "\n",
        "\n",
        "eta = 0.001\n",
        "#     liveloss = PlotLosses()\n",
        "for t in range(100):\n",
        "    # Structured perceptron for updating weights.\n",
        "    num_correct_train = 0\n",
        "    for x, y in zip(Xtrain, Ytrain):\n",
        "        y_pred = np.argmax(np.dot(W, x))\n",
        "        if y_pred != y:\n",
        "            W[y] += x * eta\n",
        "            W[y_pred] -= x * eta\n",
        "        else:\n",
        "            num_correct_train += 1\n",
        "\n",
        "            \n",
        "  \n",
        "Y_true = []\n",
        "Y_pred = []\n",
        "# Evaluate and store the accuracy on the test set.\n",
        "num_correct_test = 0\n",
        "for x, y in zip(Xtest, Ytest):\n",
        "    y_pred = np.argmax(np.dot(W, x))\n",
        "    Y_true.append(y)\n",
        "    Y_pred.append(y_pred)\n",
        "    if y_pred == y:\n",
        "        num_correct_test += 1\n",
        "\n",
        "print('Accuracy: {:.4f} (test), {:.4f} (train)'.format(\n",
        "    float(num_correct_test) / len(Ytest), \n",
        "    float(num_correct_train) / len(Ytrain)\n",
        "    )) \n"
      ],
      "execution_count": 3,
      "outputs": [
        {
          "output_type": "stream",
          "text": [
            "Accuracy: 0.8862 (test), 0.9008 (train)\n"
          ],
          "name": "stdout"
        }
      ]
    },
    {
      "metadata": {
        "id": "O3h0Whgcg0FT",
        "colab_type": "text"
      },
      "cell_type": "markdown",
      "source": [
        "## 2. Confusion matrix\n",
        "\n",
        "Show a confusion matrix of the predictions of the model on the test set. This is an example of a confusion matrix.\n",
        "\n",
        "![example](https://github.com/takesi0627/deeplearningclass/blob/master/assignment/example-confusion-matrix.png?raw=1)\n",
        "\n",
        "Write a code here and show the confusion matrix."
      ]
    },
    {
      "metadata": {
        "id": "CftGj3tWSPZi",
        "colab_type": "code",
        "colab": {
          "base_uri": "https://localhost:8080/",
          "height": 170
        },
        "outputId": "28edf219-7adf-4567-bc30-a0c9f576d2bf"
      },
      "cell_type": "code",
      "source": [
        "!pip install sklearn"
      ],
      "execution_count": 4,
      "outputs": [
        {
          "output_type": "stream",
          "text": [
            "Collecting sklearn\n",
            "  Downloading https://files.pythonhosted.org/packages/1e/7a/dbb3be0ce9bd5c8b7e3d87328e79063f8b263b2b1bfa4774cb1147bfcd3f/sklearn-0.0.tar.gz\n",
            "Requirement already satisfied: scikit-learn in /usr/local/lib/python3.6/dist-packages (from sklearn) (0.19.2)\n",
            "Building wheels for collected packages: sklearn\n",
            "  Running setup.py bdist_wheel for sklearn ... \u001b[?25l-\b \bdone\n",
            "\u001b[?25h  Stored in directory: /content/.cache/pip/wheels/76/03/bb/589d421d27431bcd2c6da284d5f2286c8e3b2ea3cf1594c074\n",
            "Successfully built sklearn\n",
            "Installing collected packages: sklearn\n",
            "Successfully installed sklearn-0.0\n"
          ],
          "name": "stdout"
        }
      ]
    },
    {
      "metadata": {
        "id": "ZJR9qHKtg0FU",
        "colab_type": "code",
        "colab": {
          "base_uri": "https://localhost:8080/",
          "height": 187
        },
        "outputId": "eca60784-2dec-4240-8956-fa0871f91c97"
      },
      "cell_type": "code",
      "source": [
        "from sklearn.metrics import confusion_matrix\n",
        "cm = confusion_matrix(Y_true, Y_pred)\n",
        "print(cm)"
      ],
      "execution_count": 106,
      "outputs": [
        {
          "output_type": "stream",
          "text": [
            "[[ 936    0    5    4    3   12    8    3    4    5]\n",
            " [   1 1103    8    1    0    4    3    3   12    0]\n",
            " [  13   11  874   26    8   14   22   14   44    6]\n",
            " [   8    4   28  864    1   58    2   12   20   13]\n",
            " [   3    1    9    6  855    3   13    9    9   74]\n",
            " [  13    2    7   37   12  760   14    5   28   14]\n",
            " [  13    4   13    4    9   20  884    2    9    0]\n",
            " [   3   13   21   14    4    4    0  866    7   96]\n",
            " [   7    8   12   39   10   56   12    6  787   37]\n",
            " [   4    6    2   10   20    9    2   16    7  933]]\n"
          ],
          "name": "stdout"
        }
      ]
    },
    {
      "metadata": {
        "id": "EnJBR54fg0FW",
        "colab_type": "text"
      },
      "cell_type": "markdown",
      "source": [
        "## 3. Top-3 confusing examples\n",
        "\n",
        "Show the top three images where the model misrecognized their digits with strong confidences. More specifically, let $y_n$ and $\\hat{y}_n$ the true and predicted, respectively, digits of the image $x_n$. We want to find three images with high $P(\\hat{y}_n | x_n)$ when $y_n \\neq \\hat{y}_n$.\n",
        "\n",
        "Please show $y_n$, $P(y_n | x_n)$, $\\hat{y}_n$, and $P(\\hat{y}_n | x_n)$. This is an example of an output for an image (you need this kind of outputs for top-three images).\n",
        "\n",
        "![example](https://github.com/takesi0627/deeplearningclass/blob/master/assignment/example-confusing-sample.png?raw=1)\n",
        "\n",
        "Write a code here and show the output."
      ]
    },
    {
      "metadata": {
        "id": "ACbmtL--g0FW",
        "colab_type": "code",
        "colab": {
          "base_uri": "https://localhost:8080/",
          "height": 2746
        },
        "outputId": "5e38d513-8a7d-43ad-c0d6-010a692053e8"
      },
      "cell_type": "code",
      "source": [
        "import matplotlib.pyplot as plt\n",
        "import seaborn as sns\n",
        "\n",
        "\n",
        "def softmax (x):\n",
        "  ex = np.exp(x - np.max(x))\n",
        "  return ex / ex.sum(axis=0)\n",
        "\n",
        "index = 0\n",
        "for x, y in zip(data['test_x'], Ytest):\n",
        "  X = np.reshape(x, -1)\n",
        "  X = np.append(X, 1)\n",
        "  y_pred = np.argmax(np.dot(W, X))\n",
        "  \n",
        "  accuracy = softmax(np.dot(W, X))\n",
        "  if y_pred != y and accuracy[y] < 1e-4:\n",
        "    print('True digit: {}({:e}); Predict digit: {}({})'.format(y, accuracy[y], y_pred, accuracy[y_pred]))\n",
        "    f, ax = plt.subplots(figsize=(16, 16))\n",
        "    sns.heatmap(x, annot=False, fmt='.1f', square=True, cmap=\"YlGnBu\")\n",
        "    plt.show()\n",
        "    index += 1\n",
        "    if index >= 3:\n",
        "      break"
      ],
      "execution_count": 68,
      "outputs": [
        {
          "output_type": "stream",
          "text": [
            "True digit: 2(1.276545e-07); Predict digit: 9(0.9916901477683744)\n"
          ],
          "name": "stdout"
        },
        {
          "output_type": "display_data",
          "data": {
            "image/png": "[encoded data removed]",
            "text/plain": [
              "<matplotlib.figure.Figure at 0x7f9309b2c1d0>"
            ]
          },
          "metadata": {
            "tags": []
          }
        },
        {
          "output_type": "stream",
          "text": [
            "True digit: 9(1.033174e-05); Predict digit: 6(0.8770861699183048)\n"
          ],
          "name": "stdout"
        },
        {
          "output_type": "display_data",
          "data": {
            "image/png": "[encoded data removed]",
            "text/plain": [
              "<matplotlib.figure.Figure at 0x7f9309bb5550>"
            ]
          },
          "metadata": {
            "tags": []
          }
        },
        {
          "output_type": "stream",
          "text": [
            "True digit: 1(1.572117e-05); Predict digit: 2(0.9539009248373324)\n"
          ],
          "name": "stdout"
        },
        {
          "output_type": "display_data",
          "data": {
            "image/png": "[encoded data removed]",
            "text/plain": [
              "<matplotlib.figure.Figure at 0x7f9307e7f9e8>"
            ]
          },
          "metadata": {
            "tags": []
          }
        }
      ]
    },
    {
      "metadata": {
        "id": "r6DTbJ8og0FY",
        "colab_type": "text"
      },
      "cell_type": "markdown",
      "source": [
        "## 4. Sample codes in other DL frameworks\n",
        "\n",
        "(Advanced; optional) Implement one or more sample code(s) with a different deep learning framework (e.g., Chainer, TensorFlow, DyNet) corresponding to the slides 60-66 in binary classification. *When subitting an answer to this problem, please agree that some of the submitted codes will be distributed on the Web site to improve this lecture.*"
      ]
    },
    {
      "metadata": {
        "id": "DWhlac-Ng0FZ",
        "colab_type": "code",
        "colab": {
          "base_uri": "https://localhost:8080/",
          "height": 306
        },
        "outputId": "f2161cc4-170d-4fac-ce10-9f9cbdfe8634"
      },
      "cell_type": "code",
      "source": [
        "!pip install chainer==5.0.0.b3"
      ],
      "execution_count": 72,
      "outputs": [
        {
          "output_type": "stream",
          "text": [
            "Collecting chainer==5.0.0.b3\n",
            "\u001b[?25l  Downloading https://files.pythonhosted.org/packages/0b/63/e7190865de3b91e41a771ef550ed7064a7a69d5e9f07a9f24529ae55a40b/chainer-5.0.0b3.tar.gz (434kB)\n",
            "\u001b[K    100% |████████████████████████████████| 440kB 7.3MB/s \n",
            "\u001b[?25hRequirement already satisfied: filelock in /usr/local/lib/python3.6/dist-packages (from chainer==5.0.0.b3) (3.0.4)\n",
            "Requirement already satisfied: numpy>=1.9.0 in /usr/local/lib/python3.6/dist-packages (from chainer==5.0.0.b3) (1.14.5)\n",
            "Requirement already satisfied: protobuf>=3.0.0 in /usr/local/lib/python3.6/dist-packages (from chainer==5.0.0.b3) (3.6.0)\n",
            "Requirement already satisfied: six>=1.9.0 in /usr/local/lib/python3.6/dist-packages (from chainer==5.0.0.b3) (1.11.0)\n",
            "Requirement already satisfied: setuptools in /usr/local/lib/python3.6/dist-packages (from protobuf>=3.0.0->chainer==5.0.0.b3) (39.1.0)\n",
            "Building wheels for collected packages: chainer\n",
            "  Running setup.py bdist_wheel for chainer ... \u001b[?25l-\b \b\\\b \b|\b \b/\b \b-\b \bdone\n",
            "\u001b[?25h  Stored in directory: /content/.cache/pip/wheels/2c/7b/86/b9c1fb8a6332dcf4ba11b30f6083f776a4a08ec91ed7f764c2\n",
            "Successfully built chainer\n",
            "Installing collected packages: chainer\n",
            "  Found existing installation: chainer 5.0.0b2\n",
            "    Uninstalling chainer-5.0.0b2:\n",
            "      Successfully uninstalled chainer-5.0.0b2\n",
            "Successfully installed chainer-5.0.0b3\n"
          ],
          "name": "stdout"
        }
      ]
    },
    {
      "metadata": {
        "id": "Xk6qiRviGxAb",
        "colab_type": "text"
      },
      "cell_type": "markdown",
      "source": [
        "# slide p.60"
      ]
    },
    {
      "metadata": {
        "id": "DJuNVn0Il1bR",
        "colab_type": "code",
        "colab": {
          "base_uri": "https://localhost:8080/",
          "height": 51
        },
        "outputId": "57c0f04c-d4d5-4aca-e1ae-087a7931fdad"
      },
      "cell_type": "code",
      "source": [
        "import chainer\n",
        "import numpy as np\n",
        "import chainer.functions as F\n",
        "from chainer import Function, Variable\n",
        "\n",
        "dtype = np.float32\n",
        "\n",
        "import chainer\n",
        "import numpy as np\n",
        "import chainer.functions as F\n",
        "from chainer import Function, Variable\n",
        "x = Variable(np.array([1, 1, 1], dtype=dtype))\n",
        "w = Variable(np.array([1.0, 1.0, -1.5], dtype=dtype))\n",
        "\n",
        "loss = -F.log(F.sigmoid(np.dot(x, w)))\n",
        "loss.backward()\n",
        "\n",
        "print(loss)\n",
        "print(w.grad)"
      ],
      "execution_count": 8,
      "outputs": [
        {
          "output_type": "stream",
          "text": [
            "variable(0.47407696)\n",
            "[-0.37754062 -0.37754062 -0.37754062]\n"
          ],
          "name": "stdout"
        }
      ]
    },
    {
      "metadata": {
        "id": "_fZOluUzHJja",
        "colab_type": "text"
      },
      "cell_type": "markdown",
      "source": [
        "# slide p.61"
      ]
    },
    {
      "metadata": {
        "id": "s0TXT2oyHMXz",
        "colab_type": "code",
        "colab": {
          "base_uri": "https://localhost:8080/",
          "height": 136
        },
        "outputId": "a497a83a-78f5-47a0-d1d4-6d6dfd99419f"
      },
      "cell_type": "code",
      "source": [
        "import chainer\n",
        "import numpy as np\n",
        "from chainer import Variable\n",
        "import chainer.functions as F\n",
        "\n",
        "dtype = np.float32\n",
        "\n",
        "# Training data for NAND\n",
        "x = Variable(np.array([[0, 0, 1], [0, 1, 1], [1, 0, 1], [1, 1, 1]], dtype=dtype))\n",
        "y = Variable(np.array([[1], [1], [1], [0]], dtype=dtype))\n",
        "w = Variable(np.random.rand(3, 1).astype(dtype=dtype))\n",
        "\n",
        "eta = 0.5\n",
        "\n",
        "for t in range(100):\n",
        "    # y_pred = \\sigma(x \\cdot w)\n",
        "    y_pred = F.sigmoid(F.matmul(x, w))\n",
        "    ll = y * y_pred + (1 - y) * (1 - y_pred)\n",
        "    loss = -F.sum(F.log(ll))\n",
        "#     print(t, loss)\n",
        "\n",
        "    loss.backward()\n",
        "\n",
        "    with chainer.no_backprop_mode():\n",
        "        w -= eta * w.grad\n",
        "        w.cleargrad()\n",
        "\n",
        "print(w)\n",
        "print(F.sigmoid(F.matmul(x, w)))\n",
        "\n"
      ],
      "execution_count": 9,
      "outputs": [
        {
          "output_type": "stream",
          "text": [
            "variable([[-4.2538953]\n",
            "          [-4.254267 ]\n",
            "          [ 6.57286  ]])\n",
            "variable([[0.9986042 ]\n",
            "          [0.9104052 ]\n",
            "          [0.91043556]\n",
            "          [0.12616482]])\n"
          ],
          "name": "stdout"
        }
      ]
    },
    {
      "metadata": {
        "id": "QGFRo5VIlIv3",
        "colab_type": "text"
      },
      "cell_type": "markdown",
      "source": [
        "# p.62"
      ]
    },
    {
      "metadata": {
        "id": "AUh2AAX1lL13",
        "colab_type": "code",
        "colab": {
          "base_uri": "https://localhost:8080/",
          "height": 187
        },
        "outputId": "0088d20d-4d77-4d2f-ee25-eaf9ad37db47"
      },
      "cell_type": "code",
      "source": [
        "import chainer\n",
        "import numpy as np\n",
        "from chainer import Variable\n",
        "import chainer.functions as F\n",
        "\n",
        "dtype = np.float32\n",
        "\n",
        "# Training data for XOR\n",
        "x = Variable(np.array([[0, 0, 1], [0, 1, 1], [1, 0, 1], [1, 1, 1]], dtype=dtype))\n",
        "y = Variable(np.array([[0], [1], [1], [0]], dtype=dtype))\n",
        "w1 = Variable(np.random.rand(3, 2).astype(dtype=dtype), requires_grad=True)\n",
        "w2 = Variable(np.random.rand(2, 1).astype(dtype=dtype), requires_grad=True)\n",
        "b2 = Variable(np.random.rand(1, 1).astype(dtype=dtype), requires_grad=True)\n",
        "ones = Variable(np.ones((4,1)).astype(dtype=dtype),requires_grad=True)\n",
        "\n",
        "eta = 0.5\n",
        "for t in range(1000):\n",
        "    # y_pred = \\sigma(w_2 \\cdot \\sigma(x \\cdot w_1) + b_2)\n",
        "    y_pred = F.sigmoid(F.matmul(F.sigmoid(F.matmul(x, w1)), w2) + F.matmul(ones, b2))\n",
        "    ll = y * y_pred + (1 -y) * (1 - y_pred)\n",
        "    loss = -F.sum(F.log(ll))\n",
        "    # print(t, loss)\n",
        "    loss.backward()\n",
        "\n",
        "    with chainer.no_backprop_mode():\n",
        "        # Update weights using SGD\n",
        "        w1 -= eta * w1.grad\n",
        "        w2 -= eta * w2.grad\n",
        "        b2 -= eta * b2.grad\n",
        "\n",
        "        # Clear the gradients for the next iteration\n",
        "        w1.cleargrad()\n",
        "        w2.cleargrad()\n",
        "        b2.cleargrad()\n",
        "\n",
        "print(w1)\n",
        "print(w2)\n",
        "print(b2)\n",
        "\n",
        "print(F.sigmoid(F.matmul(F.sigmoid(F.matmul(x, w1)), w2) + F.matmul(ones, b2)))\n"
      ],
      "execution_count": 10,
      "outputs": [
        {
          "output_type": "stream",
          "text": [
            "variable([[ 7.054494   5.168355 ]\n",
            "          [ 7.046379   5.1668777]\n",
            "          [-3.186136  -7.909696 ]])\n",
            "variable([[ 11.361548]\n",
            "          [-12.154921]])\n",
            "variable([[-5.263218]])\n",
            "variable([[0.00802824]\n",
            "          [0.99411047]\n",
            "          [0.99411535]\n",
            "          [0.00624782]])\n"
          ],
          "name": "stdout"
        }
      ]
    },
    {
      "metadata": {
        "id": "4oQvV5kdQnwu",
        "colab_type": "text"
      },
      "cell_type": "markdown",
      "source": [
        "# p.63"
      ]
    },
    {
      "metadata": {
        "id": "MYmOr1jcQqXH",
        "colab_type": "code",
        "colab": {
          "base_uri": "https://localhost:8080/",
          "height": 119
        },
        "outputId": "e3f841e2-6d8f-49c9-f2a2-ee57dae705ef"
      },
      "cell_type": "code",
      "source": [
        "import chainer\n",
        "import numpy as np\n",
        "from chainer import Variable, Function\n",
        "import chainer.functions as F\n",
        "import chainer.links as L\n",
        "from chainer import optimizers\n",
        "\n",
        "def BCEWithLogitLoss(x, y):\n",
        "    max_val = F.maximum(x, np.zeros(x.shape, dtype=dtype))\n",
        "    return F.sum(x - x * y + max_val + F.log(F.exp(-max_val) + F.exp(-x - max_val)))\n",
        "\n",
        "dtype = np.float32\n",
        "\n",
        "# Training data for NAND\n",
        "x = Variable(np.array([[0, 0], [0, 1], [1, 0], [1, 1]], dtype=dtype))\n",
        "y = Variable(np.array([[1], [1], [1], [0]], dtype=dtype))\n",
        "\n",
        "# Define a neural network using high-level modules.\n",
        "model = chainer.Sequential(\n",
        "    L.Linear(2, 1)\n",
        ")\n",
        "\n",
        "optimizer = optimizers.SGD(lr=0.5).setup(model)\n",
        "\n",
        "for t in range(100):\n",
        "    y_pred = model(x)\n",
        "    # Binary cross-entropy loss after sigmoid function.\n",
        "    loss = BCEWithLogitLoss(y_pred, y)\n",
        "    # print(t, loss.data)\n",
        "    model.cleargrads()\n",
        "    loss.backward()\n",
        "\n",
        "    with chainer.no_backprop_mode():\n",
        "      for para in model.params():\n",
        "        para.update()\n",
        "\n",
        "for para in model.params():\n",
        "    print(para)\n",
        "print(F.sigmoid(model(x)))\n"
      ],
      "execution_count": 102,
      "outputs": [
        {
          "output_type": "stream",
          "text": [
            "variable W([[-4.244905  -4.2434964]])\n",
            "variable b([6.558173])\n",
            "variable([[0.99858356]\n",
            "          [0.9100853 ]\n",
            "          [0.9099699 ]\n",
            "          [0.12672535]])\n"
          ],
          "name": "stdout"
        }
      ]
    },
    {
      "metadata": {
        "id": "EmQSa4NEbQeW",
        "colab_type": "text"
      },
      "cell_type": "markdown",
      "source": [
        "# p.64"
      ]
    },
    {
      "metadata": {
        "id": "uLe1C0-fbO7y",
        "colab_type": "code",
        "colab": {
          "base_uri": "https://localhost:8080/",
          "height": 170
        },
        "outputId": "9fc13e5e-6fb7-4f84-8c0a-97060ce533b6"
      },
      "cell_type": "code",
      "source": [
        "import chainer\n",
        "import numpy as np\n",
        "import chainer.links as L\n",
        "import chainer.functions as F\n",
        "from chainer import optimizers\n",
        "\n",
        "def BCEWithLogitLoss(x, y):\n",
        "    max_val = F.maximum(x, np.zeros(x.shape, dtype=dtype))\n",
        "    return F.sum(x - x * y + max_val + F.log(F.exp(-max_val) + F.exp(-x - max_val)))\n",
        "    # return F.sum(F.maximum(x, np.zeros(x.shape, dtype=dtype)) - x * y + F.log(1 + F.exp(-F.absolute(x))))\n",
        "\n",
        "dtype = np.float32\n",
        "\n",
        "# Training data for XOR\n",
        "x = np.array([[0, 0], [0, 1], [1, 0], [1, 1]], dtype=dtype)\n",
        "y = np.array([[0], [1], [1], [0]], dtype=dtype)\n",
        "\n",
        "# Define a neural network usin high-level modules.\n",
        "model = chainer.Sequential(\n",
        "    L.Linear(2, 2),\n",
        "    F.sigmoid,\n",
        "    L.Linear(2, 1)\n",
        ")\n",
        "\n",
        "optimizer = optimizers.SGD(lr=0.5).setup(model)\n",
        "\n",
        "for t in range(1000):\n",
        "    y_pred = model(x)\n",
        "    loss = BCEWithLogitLoss(y_pred, y)\n",
        "    # print(t, loss)\n",
        "\n",
        "    model.cleargrads()\n",
        "    loss.backward()\n",
        "\n",
        "    with chainer.no_backprop_mode():\n",
        "        for para in model.params():\n",
        "            para.update()\n",
        "\n",
        "\n",
        "for para in model.params():\n",
        "    print(para)\n",
        "print(F.sigmoid(model(x)))"
      ],
      "execution_count": 103,
      "outputs": [
        {
          "output_type": "stream",
          "text": [
            "variable W([[ 5.2622476  5.263499 ]\n",
            "            [-6.9554734 -6.963842 ]])\n",
            "variable b([-8.154624   2.8295677])\n",
            "variable W([[-11.67038   -11.4600115]])\n",
            "variable b([5.6748614])\n",
            "variable([[0.00576803]\n",
            "          [0.9924635 ]\n",
            "          [0.9924578 ]\n",
            "          [0.00669932]])\n"
          ],
          "name": "stdout"
        }
      ]
    },
    {
      "metadata": {
        "id": "awwAi3YdbYD7",
        "colab_type": "text"
      },
      "cell_type": "markdown",
      "source": [
        "# p.65"
      ]
    },
    {
      "metadata": {
        "id": "-3fp261DbaLb",
        "colab_type": "code",
        "colab": {
          "base_uri": "https://localhost:8080/",
          "height": 119
        },
        "outputId": "271df51c-ca70-4b7a-e233-df8a28cb51fe"
      },
      "cell_type": "code",
      "source": [
        "import chainer\n",
        "import numpy as np\n",
        "from chainer import Variable, Function\n",
        "import chainer.functions as F\n",
        "import chainer.links as L\n",
        "from chainer import optimizers\n",
        "\n",
        "def BCEWithLogitLoss(x, y):\n",
        "    max_val = F.maximum(x, np.zeros(x.shape, dtype=dtype))\n",
        "    return F.sum(x - x * y + max_val + F.log(F.exp(-max_val) + F.exp(-x - max_val)))\n",
        "\n",
        "dtype = np.float32\n",
        "\n",
        "# Training data for NAND\n",
        "x = Variable(np.array([[0, 0], [0, 1], [1, 0], [1, 1]], dtype=dtype))\n",
        "y = Variable(np.array([[1], [1], [1], [0]], dtype=dtype))\n",
        "\n",
        "# Define a neural network using high-level modules.\n",
        "model = chainer.Sequential(\n",
        "    L.Linear(2, 1)\n",
        ")\n",
        "\n",
        "# Optimizer based on SGD (change \"SGD\" to \"Adam\" to use Adam)\n",
        "optimizer = optimizers.SGD(lr=0.5).setup(model)\n",
        "\n",
        "for t in range(100):\n",
        "    y_pred = model(x)\n",
        "    # Binary cross-entropy loss after sigmoid function.\n",
        "    loss = BCEWithLogitLoss(y_pred, y)\n",
        "    # print(t, loss.data)\n",
        "    model.cleargrads()\n",
        "    loss.backward()\n",
        "    optimizer.update()\n",
        "\n",
        "for para in model.params():\n",
        "    print(para)\n",
        "print(F.sigmoid(model(x)))\n",
        "\n"
      ],
      "execution_count": 104,
      "outputs": [
        {
          "output_type": "stream",
          "text": [
            "variable W([[-4.2393155 -4.239138 ]])\n",
            "variable b([6.5507784])\n",
            "variable([[0.99857306]\n",
            "          [0.90983653]\n",
            "          [0.909822  ]\n",
            "          [0.12700811]])\n"
          ],
          "name": "stdout"
        }
      ]
    },
    {
      "metadata": {
        "id": "tfOMAoAecKAr",
        "colab_type": "text"
      },
      "cell_type": "markdown",
      "source": [
        "# p.66"
      ]
    },
    {
      "metadata": {
        "id": "rC3qHGJEcLw4",
        "colab_type": "code",
        "colab": {
          "base_uri": "https://localhost:8080/",
          "height": 170
        },
        "outputId": "7f23fd94-6daf-4660-9dd0-f61ffb9aacd8"
      },
      "cell_type": "code",
      "source": [
        "import chainer\n",
        "import numpy as np\n",
        "import chainer.links as L\n",
        "import chainer.functions as F\n",
        "from chainer import optimizers\n",
        "\n",
        "def BCEWithLogitLoss(x, y):\n",
        "    max_val = F.maximum(x, np.zeros(x.shape, dtype=dtype))\n",
        "    return F.sum(x - x * y + max_val + F.log(F.exp(-max_val) + F.exp(-x - max_val)))\n",
        "    # return F.sum(F.maximum(x, np.zeros(x.shape, dtype=dtype)) - x * y + F.log(1 + F.exp(-F.absolute(x))))\n",
        "\n",
        "dtype = np.float32\n",
        "\n",
        "# Training data for XOR\n",
        "x = np.array([[0, 0], [0, 1], [1, 0], [1, 1]], dtype=dtype)\n",
        "y = np.array([[0], [1], [1], [0]], dtype=dtype)\n",
        "\n",
        "# Define a neural network usin high-level modules.\n",
        "model = chainer.Sequential(\n",
        "    L.Linear(2, 2),\n",
        "    F.sigmoid,\n",
        "    L.Linear(2, 1)\n",
        ")\n",
        "\n",
        "optimizer = optimizers.SGD(lr=0.5).setup(model)\n",
        "\n",
        "for t in range(1000):\n",
        "    y_pred = model(x)\n",
        "    loss = BCEWithLogitLoss(y_pred, y)\n",
        "    # print(t, loss)\n",
        "  \n",
        "    model.cleargrads()\n",
        "    loss.backward()\n",
        "    optimizer.update()\n",
        "\n",
        "\n",
        "for para in model.params():\n",
        "    print(para)\n",
        "print(F.sigmoid(model(x)))"
      ],
      "execution_count": 105,
      "outputs": [
        {
          "output_type": "stream",
          "text": [
            "variable W([[7.2339454 7.1400986]\n",
            "            [5.1540627 5.138456 ]])\n",
            "variable b([-3.2567258 -7.878225 ])\n",
            "variable W([[ 11.537526 -12.389859]])\n",
            "variable b([-5.331644])\n",
            "variable([[0.00732976]\n",
            "          [0.9946301 ]\n",
            "          [0.99467987]\n",
            "          [0.00566891]])\n"
          ],
          "name": "stdout"
        }
      ]
    }
  ]
}